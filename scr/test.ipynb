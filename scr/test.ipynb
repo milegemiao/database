{
 "cells": [
  {
   "cell_type": "code",
   "execution_count": 1,
   "metadata": {},
   "outputs": [],
   "source": [
    "import os\n",
    "import sys\n",
    "import math\n",
    "import requests\n",
    "from PIL import Image\n",
    "from tqdm import trange"
   ]
  },
  {
   "cell_type": "code",
   "execution_count": 11,
   "metadata": {},
   "outputs": [],
   "source": [
    "URL = {\n",
    "    \"gaode\": \"http://webrd02.is.autonavi.com/appmaptile?lang=zh_cn&size=1&scale=1&style=7&x={x}&y={y}&z={z}\",\n",
    "    \"gaode.image\": \"http://webst02.is.autonavi.com/appmaptile?style=6&x={x}&y={y}&z={z}\",\n",
    "    \"tianditu\": \"http://t2.tianditu.cn/DataServer?T=vec_w&X={x}&Y={y}&L={z}\",\n",
    "    \"googlesat\": \"http://khm0.googleapis.com/kh?v=203&hl=zh-CN&&x={x}&y={y}&z={z}\",\n",
    "    \"tianditusat\":\"http://t2.tianditu.cn/DataServer?T=img_w&X={x}&Y={y}&L={z}\",\n",
    "    \"esrisat\":\"http://server.arcgisonline.com/arcgis/rest/services/world_imagery/mapserver/tile/{z}/{y}/{x}\",\n",
    "    \"gaode.road\": \"http://webst02.is.autonavi.com/appmaptile?x={x}&y={y}&z={z}&lang=zh_cn&size=1&scale=1&style=8\"\n",
    "}"
   ]
  },
  {
   "cell_type": "code",
   "execution_count": 5,
   "metadata": {},
   "outputs": [],
   "source": [
    "def latlng2tilenum(lat_deg, lng_deg, zoom):\n",
    "    \"\"\"\n",
    "    convert latitude, longitude and zoom into tile in x and y axis\n",
    "    referencing http://www.cnblogs.com/Tangf/archive/2012/04/07/2435545.html\n",
    "    Keyword arguments:\n",
    "    lat_deg -- latitude in degree\n",
    "    lng_deg -- longitude in degree\n",
    "    zoom    -- map scale (0-18)\n",
    "    Return two parameters as tile numbers in x axis and y axis\n",
    "    \"\"\"\n",
    "    n = math.pow(2, int(zoom))\n",
    "    xtile = ((lng_deg + 180) / 360) * n\n",
    "    lat_rad = lat_deg / 180 * math.pi\n",
    "    ytile = (1 - (math.log(math.tan(lat_rad) + 1 / math.cos(lat_rad)) / math.pi)) / 2 * n\n",
    "    return math.floor(xtile), math.floor(ytile)"
   ]
  },
  {
   "cell_type": "code",
   "execution_count": 6,
   "metadata": {},
   "outputs": [],
   "source": [
    "def download(left, right, top, bottom, zoom, maptype=\"gaode.image\"):\n",
    "    for x in trange(left, right + 1):\n",
    "        for y in trange(top, bottom + 1):\n",
    "            path = './tiles/%s/%i/%i/%i.png' % (maptype, zoom, x, y)\n",
    "            if not os.path.exists(path):\n",
    "                _download(x, y, zoom, maptype)"
   ]
  },
  {
   "cell_type": "code",
   "execution_count": 8,
   "metadata": {},
   "outputs": [],
   "source": [
    "def _download(x, y, z, maptype=\"gaode.image\"):\n",
    "    map_url = URL[maptype].format(x=x, y=y, z=z)\n",
    "\n",
    "    r = requests.get(map_url)\n",
    "    path = './tiles/%s/%i/%i' % (maptype, z, x)\n",
    "    if not os.path.isdir(path):\n",
    "        os.makedirs(path)\n",
    "    with open('%s/%i.png' % (path, y), 'wb') as f:\n",
    "        for chunk in r.iter_content(chunk_size=1024):\n",
    "            if chunk:\n",
    "                f.write(chunk)\n",
    "                f.flush()"
   ]
  },
  {
   "cell_type": "code",
   "execution_count": 7,
   "metadata": {},
   "outputs": [],
   "source": [
    "def _mosaic(left, right, top, bottom, zoom, output='mosaic', maptype=\"gaode.image\"):\n",
    "    size_x = (right - left + 1) * 256\n",
    "    size_y = (bottom - top + 1) * 256\n",
    "    output_im = Image.new(\"RGBA\", (size_x, size_y))\n",
    "\n",
    "    for x in trange(left, right + 1):\n",
    "        for y in trange(top, bottom + 1):\n",
    "            path = './tiles/%s/%i/%i/%i.png' % (maptype, zoom, x, y)\n",
    "            if os.path.exists(path):\n",
    "                target_im = Image.open(path)\n",
    "                if target_im.mode == 'P':\n",
    "                    output_im.paste(target_im, (256 * (x - left), 256 * (y - top)))\n",
    "    output_path = os.path.split(output)\n",
    "    if len(output_path) > 1 and len(output_path) != 0:\n",
    "        if not os.path.isdir(output_path[0]):\n",
    "            os.makedirs(output_path[0])\n",
    "    output_im.save(output)"
   ]
  },
  {
   "cell_type": "code",
   "execution_count": 3,
   "metadata": {},
   "outputs": [],
   "source": [
    "def process_latlng(north, west, south, east, zoom, output='mosaic', maptype=\"gaode.image\"):\n",
    "    \"\"\"\n",
    "    download and mosaic by latlng\n",
    "    Keyword arguments:\n",
    "    north -- north latitude\n",
    "    west  -- west longitude\n",
    "    south -- south latitude\n",
    "    east  -- east longitude\n",
    "    zoom  -- map scale (0-18)\n",
    "    output -- output file name default mosaic\n",
    "    \"\"\"\n",
    "    left, top = latlng2tilenum(north, west, zoom)\n",
    "    right, bottom = latlng2tilenum(south, east, zoom)\n",
    "    process_tilenum(left, right, top, bottom, zoom, output, maptype)"
   ]
  },
  {
   "cell_type": "code",
   "execution_count": 4,
   "metadata": {},
   "outputs": [],
   "source": [
    "def process_tilenum(left, right, top, bottom, zoom, output='mosaic', maptype=\"gaode.image\"):\n",
    "    \"\"\"\n",
    "    download and mosaic by tile number\n",
    "    Keyword arguments:\n",
    "    left   -- left tile number\n",
    "    right  -- right tile number\n",
    "    top    -- top tile number\n",
    "    bottom -- bottom tile number\n",
    "    zoom   -- map scale (0-18)\n",
    "    output -- output file name default mosaic\n",
    "    \"\"\"\n",
    "    output = \"output/\"+output+\".png\"\n",
    "    download(left, right, top, bottom, zoom, maptype)\n",
    "    _mosaic(left, right, top, bottom, zoom, output, maptype)"
   ]
  },
  {
   "cell_type": "code",
   "execution_count": 14,
   "metadata": {},
   "outputs": [],
   "source": [
    "def test():\n",
    "    process_latlng(22.4566710000, 113.8899620000, 22.3455760000, 114.2126860000, 13, 'output/houmen.png', \"gaode\")\n",
    "    #_mosaic(215552, 215967, 113763, 113923, 2, \"output/hui.png\", \"gaode.road\")"
   ]
  },
  {
   "cell_type": "code",
   "execution_count": 15,
   "metadata": {},
   "outputs": [
    {
     "name": "stderr",
     "output_type": "stream",
     "text": [
      "  0%|                                                                                            | 0/8 [00:00<?, ?it/s]\n",
      "  0%|                                                                                            | 0/4 [00:00<?, ?it/s]\n",
      " 25%|█████████████████████                                                               | 1/4 [00:04<00:14,  4.86s/it]\n",
      " 50%|██████████████████████████████████████████                                          | 2/4 [00:05<00:07,  3.73s/it]\n",
      " 75%|███████████████████████████████████████████████████████████████                     | 3/4 [00:07<00:03,  3.00s/it]\n",
      " 12%|██████████▌                                                                         | 1/8 [00:08<00:57,  8.28s/it]\n",
      "  0%|                                                                                            | 0/4 [00:00<?, ?it/s]\n",
      " 25%|█████████████████████                                                               | 1/4 [00:00<00:02,  1.25it/s]\n",
      " 50%|██████████████████████████████████████████                                          | 2/4 [00:06<00:04,  2.29s/it]\n",
      " 75%|███████████████████████████████████████████████████████████████                     | 3/4 [00:07<00:01,  1.91s/it]\n",
      " 25%|█████████████████████                                                               | 2/8 [00:16<00:50,  8.35s/it]\n",
      "  0%|                                                                                            | 0/4 [00:00<?, ?it/s]\n",
      " 25%|█████████████████████                                                               | 1/4 [00:00<00:02,  1.20it/s]\n",
      " 50%|██████████████████████████████████████████                                          | 2/4 [00:02<00:02,  1.19s/it]\n",
      " 75%|███████████████████████████████████████████████████████████████                     | 3/4 [00:03<00:01,  1.09s/it]\n",
      " 38%|███████████████████████████████▌                                                    | 3/8 [00:21<00:36,  7.22s/it]\n",
      "  0%|                                                                                            | 0/4 [00:00<?, ?it/s]\n",
      " 25%|█████████████████████                                                               | 1/4 [00:01<00:03,  1.23s/it]\n",
      " 50%|██████████████████████████████████████████                                          | 2/4 [00:02<00:02,  1.17s/it]\n",
      " 75%|███████████████████████████████████████████████████████████████                     | 3/4 [00:03<00:01,  1.15s/it]\n",
      " 50%|██████████████████████████████████████████                                          | 4/8 [00:25<00:25,  6.44s/it]\n",
      "  0%|                                                                                            | 0/4 [00:00<?, ?it/s]\n",
      " 25%|█████████████████████                                                               | 1/4 [00:01<00:03,  1.17s/it]\n",
      " 50%|██████████████████████████████████████████                                          | 2/4 [00:03<00:02,  1.50s/it]\n",
      " 75%|███████████████████████████████████████████████████████████████                     | 3/4 [00:05<00:01,  1.78s/it]\n",
      " 62%|████████████████████████████████████████████████████▌                               | 5/8 [00:34<00:20,  6.92s/it]\n",
      "  0%|                                                                                            | 0/4 [00:00<?, ?it/s]\n",
      " 25%|█████████████████████                                                               | 1/4 [00:00<00:02,  1.26it/s]\n",
      " 50%|██████████████████████████████████████████                                          | 2/4 [00:01<00:01,  1.24it/s]\n",
      " 75%|███████████████████████████████████████████████████████████████                     | 3/4 [00:04<00:01,  1.51s/it]\n",
      " 75%|███████████████████████████████████████████████████████████████                     | 6/8 [00:41<00:14,  7.10s/it]\n",
      "  0%|                                                                                            | 0/4 [00:00<?, ?it/s]\n",
      " 25%|█████████████████████                                                               | 1/4 [00:02<00:06,  2.18s/it]\n",
      " 50%|██████████████████████████████████████████                                          | 2/4 [00:02<00:03,  1.77s/it]\n",
      " 75%|███████████████████████████████████████████████████████████████                     | 3/4 [00:05<00:01,  1.93s/it]\n",
      " 88%|█████████████████████████████████████████████████████████████████████████▌          | 7/8 [00:48<00:07,  7.06s/it]\n",
      "  0%|                                                                                            | 0/4 [00:00<?, ?it/s]\n",
      " 25%|█████████████████████                                                               | 1/4 [00:00<00:02,  1.09it/s]\n",
      " 50%|██████████████████████████████████████████                                          | 2/4 [00:01<00:01,  1.13it/s]\n",
      " 75%|███████████████████████████████████████████████████████████████                     | 3/4 [00:04<00:01,  1.38s/it]\n",
      "100%|████████████████████████████████████████████████████████████████████████████████████| 8/8 [00:55<00:00,  6.94s/it]\n",
      "  0%|                                                                                            | 0/8 [00:00<?, ?it/s]\n",
      "  0%|                                                                                            | 0/4 [00:00<?, ?it/s]\n",
      "100%|████████████████████████████████████████████████████████████████████████████████████| 4/4 [00:00<00:00, 74.00it/s]\n",
      "  0%|                                                                                            | 0/4 [00:00<?, ?it/s]\n",
      "100%|███████████████████████████████████████████████████████████████████████████████████| 4/4 [00:00<00:00, 444.58it/s]\n",
      "  0%|                                                                                            | 0/4 [00:00<?, ?it/s]\n",
      "100%|███████████████████████████████████████████████████████████████████████████████████| 4/4 [00:00<00:00, 333.11it/s]\n",
      "  0%|                                                                                            | 0/4 [00:00<?, ?it/s]\n",
      " 50%|██████████████████████████████████████████                                          | 4/8 [00:00<00:00, 38.83it/s]\n",
      "  0%|                                                                                            | 0/4 [00:00<?, ?it/s]\n",
      "100%|███████████████████████████████████████████████████████████████████████████████████| 4/4 [00:00<00:00, 399.57it/s]\n",
      "  0%|                                                                                            | 0/4 [00:00<?, ?it/s]\n",
      "100%|███████████████████████████████████████████████████████████████████████████████████| 4/4 [00:00<00:00, 363.24it/s]\n",
      "  0%|                                                                                            | 0/4 [00:00<?, ?it/s]\n",
      "100%|███████████████████████████████████████████████████████████████████████████████████| 4/4 [00:00<00:00, 498.80it/s]\n",
      "  0%|                                                                                            | 0/4 [00:00<?, ?it/s]\n",
      "100%|████████████████████████████████████████████████████████████████████████████████████| 8/8 [00:00<00:00, 42.10it/s]\n"
     ]
    }
   ],
   "source": [
    "test()"
   ]
  },
  {
   "cell_type": "code",
   "execution_count": 22,
   "metadata": {},
   "outputs": [
    {
     "name": "stderr",
     "output_type": "stream",
     "text": [
      "100%|████████████████████████████████████████████████████████████████████████████████| 100/100 [00:10<00:00,  9.79it/s]\n"
     ]
    }
   ],
   "source": [
    "import time\n",
    "for i in trange(100):\n",
    "    time.sleep(0.1)"
   ]
  },
  {
   "cell_type": "code",
   "execution_count": null,
   "metadata": {},
   "outputs": [],
   "source": []
  }
 ],
 "metadata": {
  "kernelspec": {
   "display_name": "Python 3",
   "language": "python",
   "name": "python3"
  },
  "language_info": {
   "codemirror_mode": {
    "name": "ipython",
    "version": 3
   },
   "file_extension": ".py",
   "mimetype": "text/x-python",
   "name": "python",
   "nbconvert_exporter": "python",
   "pygments_lexer": "ipython3",
   "version": "3.5.6"
  }
 },
 "nbformat": 4,
 "nbformat_minor": 2
}
